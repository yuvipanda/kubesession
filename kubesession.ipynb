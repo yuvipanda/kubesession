{
 "cells": [
  {
   "cell_type": "markdown",
   "metadata": {},
   "source": [
    "## kubesession ##\n",
    "\n",
    "`kubesession` is a very simple layer on top of the [requests](https://docs.python-requests.org/en/master/) library that makes it easy to call the [Kubernetes](https://k8s.io) API. \n",
    "\n",
    "Both requests *and* kubernetes have very well defined APIs, so any abstraction that papers over them will always be leaky without much benefit. There is benefit to automating some boilerplate code that is required to use the k8s API - mostly around authentication & parsing `.kube/config` files. \n",
    "\n",
    "This library provides such conveniences. In particular, it allows you to:\n",
    "\n",
    "1. Use `kube://` URLs, which will automatically be translated to the appropriate server URL based on `.kube/config`\n",
    "2. Deal with the case of connecting to IPs directly, which have a SSL certificate with a SAN for 'kubernetes'. This is common when dealing with minikube and other setups. TODO: Evaluate the security of this *properly*!\n",
    "3. Deals with authentication properly, reading appropriate entries from `.kube/config`. Supports client certificate, token & basic auth.\n",
    "4. Deals with default namespace set in `.kube/config` properly. When calling out to API methods, the string `{namespace}` will always be replaced with the actual default namespace.\n",
    "\n",
    "\n",
    "TODO: Write example of calling out to k8s with raw requests, then with kubesession.\n"
   ]
  },
  {
   "cell_type": "code",
   "execution_count": 11,
   "metadata": {
    "collapsed": true
   },
   "outputs": [],
   "source": [
    "import requests\n",
    "from requests.adapters import HTTPAdapter\n",
    "\n",
    "class _KubernetesAdapter(HTTPAdapter):\n",
    "    \"\"\"\n",
    "    A HTTPS Adapter for Python Requests that makes working with kubernetes API easier.\n",
    "\n",
    "    It does the following special things:\n",
    "        \n",
    "        - Replace 'kube://' with the server URL of the kubernetes master.\n",
    "          This allows your code to call URLs like 'kube:///api/v1' rather\n",
    "          than interpolate the URL of the master in all the places.\n",
    "        - Replace the literal string '{namespace}' with the namespace parameter\n",
    "          passed in. Again, to avoid having to interpolate the default everywhere.\n",
    "        - For SSL checks, assert the hostname against what is passed in the \n",
    "          Host: header, rather than whatever we are connecting to. This is only\n",
    "          done if the Host: header is set explicitly. This should be used\n",
    "          very carefully, since this could possibly be used as a security exploit.\n",
    "          \n",
    "    Do not use this directly, always call get_kubernetes_session instead.\n",
    "    \n",
    "    Adapted from the wonderful requests_toolbelt, specifically from\n",
    "    https://github.com/sigmavirus24/requests-toolbelt/blob/master/requests_toolbelt/adapters/host_header_ssl.py\n",
    "    \"\"\"\n",
    "    def __init__(self, server, namespace, **kwargs):\n",
    "        super().__init__(**kwargs)\n",
    "        self.server = server\n",
    "        self.namespace = namespace\n",
    "\n",
    "    def send(self, request, **kwargs):\n",
    "        request.url = request.url.replace('kube://', self.server).format(\n",
    "            namespace=self.namespace\n",
    "        )\n",
    "        host_header = None\n",
    "        # HTTP headers are case-insensitive (RFC 7230)\n",
    "        for header in request.headers:\n",
    "            if header.lower() == \"host\":\n",
    "                host_header = request.headers[header]\n",
    "                break\n",
    "\n",
    "        connection_pool_kwargs = self.poolmanager.connection_pool_kw\n",
    "\n",
    "        if host_header:\n",
    "            connection_pool_kwargs[\"assert_hostname\"] = host_header\n",
    "        elif \"assert_hostname\" in connection_pool_kwargs:\n",
    "            # an assert_hostname from a previous request may have been left\n",
    "            connection_pool_kwargs.pop(\"assert_hostname\", None)\n",
    "\n",
    "        return super().send(request, **kwargs)\n"
   ]
  },
  {
   "cell_type": "code",
   "execution_count": 12,
   "metadata": {
    "collapsed": false
   },
   "outputs": [],
   "source": [
    "from urllib.parse import urlparse\n",
    "import ipaddress\n",
    "\n",
    "def get_kube_session(config, current_context=None, current_namespace='default'):\n",
    "    if current_context is None:\n",
    "        current_context = config['current-context']\n",
    "    \n",
    "    context = [c for c in config['contexts'] if c['name'] == current_context][0]['context']\n",
    "    cluster = [c for c in config['clusters'] if c['name'] == context['cluster']][0]['cluster']\n",
    "    user = [u for u in config['users'] if u['name'] == context['user']][0]['user']\n",
    "\n",
    "    \n",
    "    s = requests.Session()\n",
    "    s.mount('kube://', _KubernetesAdapter(cluster['server'], context.get('namespace', current_namespace)))\n",
    "    \n",
    "    # If we are using client certificates for authentication, set 'em!\n",
    "    if 'client-certificate' in user:\n",
    "        s.cert = (user['client-certificate'], user['client-key'])\n",
    "        \n",
    "    # TODO: Account for basic auth and token auth\n",
    "    if cluster['server'].startswith('https://') and not cluster.get('insecure-skip-tls-verify', False):\n",
    "        # If we are using https *and* connecting to an IP, attempt to\n",
    "        # validate for the name 'kubernetes' rather than just the IP.\n",
    "        parts = urlparse(cluster['server'])\n",
    "        try:\n",
    "            ipaddress.ip_address(parts.hostname)\n",
    "            headers = {'Host': 'kubernetes'}\n",
    "        except:\n",
    "            # Not an IP address\n",
    "            headers = {}\n",
    "            raise\n",
    "        s.headers = headers\n",
    "        \n",
    "        if 'certificate-authority' in cluster:\n",
    "            s.verify = cluster['certificate-authority']\n",
    "    return s"
   ]
  },
  {
   "cell_type": "code",
   "execution_count": 13,
   "metadata": {
    "collapsed": false
   },
   "outputs": [
    {
     "name": "stdout",
     "output_type": "stream",
     "text": [
      "{'items': [{'status': {'hostIP': '10.0.2.15', 'phase': 'Running', 'conditions': [{'type': 'Initialized', 'lastProbeTime': None, 'lastTransitionTime': '2016-08-25T01:47:04Z', 'status': 'True'}, {'type': 'Ready', 'lastProbeTime': None, 'lastTransitionTime': '2016-08-25T01:48:45Z', 'status': 'True'}, {'type': 'PodScheduled', 'lastProbeTime': None, 'lastTransitionTime': '2016-08-25T01:47:04Z', 'status': 'True'}], 'podIP': '10.0.2.15', 'startTime': '2016-08-25T01:47:04Z', 'containerStatuses': [{'restartCount': 0, 'containerID': 'docker://2bddc88bb741d05119fe887208a23605a3ba6c556a7ed2129ea899f44463e04b', 'name': 'kube-addon-manager', 'image': 'gcr.io/google-containers/kube-addon-manager-amd64:v2', 'state': {'running': {'startedAt': '2016-08-25T01:48:44Z'}}, 'lastState': {}, 'imageID': 'docker://sha256:a876fb07f9c2bdf292436f8b4da8a975b7a9a2d2b39e00ddd9197b64d5ae34d0', 'ready': True}]}, 'metadata': {'uid': 'd304e62f-6a65-11e6-a25c-5256aad3edfb', 'name': 'kube-addon-manager-minikubevm', 'resourceVersion': '43', 'selfLink': '/api/v1/namespaces/kube-system/pods/kube-addon-manager-minikubevm', 'creationTimestamp': '2016-08-25T01:47:04Z', 'annotations': {'kubernetes.io/config.source': 'file', 'kubernetes.io/config.mirror': '48abed82af93bb0b941173334110923f', 'kubernetes.io/config.seen': '2016-08-25T01:46:59.543065349Z', 'kubernetes.io/config.hash': '48abed82af93bb0b941173334110923f'}, 'namespace': 'kube-system'}, 'spec': {'hostNetwork': True, 'restartPolicy': 'Always', 'nodeName': 'minikubevm', 'securityContext': {}, 'volumes': [{'name': 'addons', 'hostPath': {'path': '/etc/kubernetes/'}}], 'dnsPolicy': 'ClusterFirst', 'containers': [{'name': 'kube-addon-manager', 'resources': {'requests': {'cpu': '5m', 'memory': '50Mi'}}, 'imagePullPolicy': 'IfNotPresent', 'image': 'gcr.io/google-containers/kube-addon-manager-amd64:v2', 'terminationMessagePath': '/dev/termination-log', 'volumeMounts': [{'name': 'addons', 'readOnly': True, 'mountPath': '/etc/kubernetes/'}]}], 'terminationGracePeriodSeconds': 30}}, {'status': {'hostIP': '10.0.2.15', 'phase': 'Running', 'conditions': [{'type': 'Initialized', 'lastProbeTime': None, 'lastTransitionTime': '2016-08-25T01:48:53Z', 'status': 'True'}, {'type': 'Ready', 'lastProbeTime': None, 'lastTransitionTime': '2016-08-25T01:49:23Z', 'status': 'True'}, {'type': 'PodScheduled', 'lastProbeTime': None, 'lastTransitionTime': '2016-08-25T01:48:53Z', 'status': 'True'}], 'podIP': '172.17.0.2', 'startTime': '2016-08-25T01:48:53Z', 'containerStatuses': [{'restartCount': 0, 'containerID': 'docker://2a6533b0858e392d32146afe2edcc32a743027435c2b3e427f337afc1c48c84d', 'name': 'kubernetes-dashboard', 'image': 'gcr.io/google_containers/kubernetes-dashboard-amd64:v1.1.1', 'state': {'running': {'startedAt': '2016-08-25T01:49:22Z'}}, 'lastState': {}, 'imageID': 'docker://sha256:f739d2414b140a0ca907c6e024e109a7e1b3c899cb1e9a9397bda77ca0891c52', 'ready': True}]}, 'metadata': {'uid': '1400bf47-6a66-11e6-a25c-5256aad3edfb', 'name': 'kubernetes-dashboard-ljzyf', 'resourceVersion': '66', 'selfLink': '/api/v1/namespaces/kube-system/pods/kubernetes-dashboard-ljzyf', 'creationTimestamp': '2016-08-25T01:48:53Z', 'labels': {'kubernetes.io/cluster-service': 'true', 'app': 'kubernetes-dashboard', 'version': 'v1.1.1'}, 'annotations': {'kubernetes.io/created-by': '{\"kind\":\"SerializedReference\",\"apiVersion\":\"v1\",\"reference\":{\"kind\":\"ReplicationController\",\"namespace\":\"kube-system\",\"name\":\"kubernetes-dashboard\",\"uid\":\"13f0589c-6a66-11e6-a25c-5256aad3edfb\",\"apiVersion\":\"v1\",\"resourceVersion\":\"46\"}}\\n'}, 'generateName': 'kubernetes-dashboard-', 'namespace': 'kube-system'}, 'spec': {'restartPolicy': 'Always', 'serviceAccount': 'default', 'serviceAccountName': 'default', 'nodeName': 'minikubevm', 'securityContext': {}, 'volumes': [{'secret': {'secretName': 'default-token-k2tjr'}, 'name': 'default-token-k2tjr'}], 'dnsPolicy': 'ClusterFirst', 'containers': [{'name': 'kubernetes-dashboard', 'ports': [{'containerPort': 9090, 'protocol': 'TCP'}], 'resources': {}, 'livenessProbe': {'httpGet': {'port': 9090, 'path': '/', 'scheme': 'HTTP'}, 'initialDelaySeconds': 30, 'periodSeconds': 10, 'timeoutSeconds': 30, 'failureThreshold': 3, 'successThreshold': 1}, 'imagePullPolicy': 'IfNotPresent', 'image': 'gcr.io/google_containers/kubernetes-dashboard-amd64:v1.1.1', 'terminationMessagePath': '/dev/termination-log', 'volumeMounts': [{'name': 'default-token-k2tjr', 'readOnly': True, 'mountPath': '/var/run/secrets/kubernetes.io/serviceaccount'}]}], 'terminationGracePeriodSeconds': 30}}], 'kind': 'PodList', 'metadata': {'resourceVersion': '513', 'selfLink': '/api/v1/pods'}, 'apiVersion': 'v1'}\n"
     ]
    }
   ],
   "source": [
    "import yaml\n",
    "\n",
    "with open('/home/yuvipanda/.kube/config') as f:\n",
    "    s = get_kube_session(yaml.safe_load(f))\n",
    "    print(s.get('kube:///api/v1/pods').json())"
   ]
  },
  {
   "cell_type": "code",
   "execution_count": null,
   "metadata": {
    "collapsed": true
   },
   "outputs": [],
   "source": []
  },
  {
   "cell_type": "code",
   "execution_count": null,
   "metadata": {
    "collapsed": true
   },
   "outputs": [],
   "source": []
  },
  {
   "cell_type": "code",
   "execution_count": null,
   "metadata": {
    "collapsed": true
   },
   "outputs": [],
   "source": []
  }
 ],
 "metadata": {
  "kernelspec": {
   "display_name": "Python 3",
   "language": "python",
   "name": "python3"
  },
  "language_info": {
   "codemirror_mode": {
    "name": "ipython",
    "version": 3
   },
   "file_extension": ".py",
   "mimetype": "text/x-python",
   "name": "python",
   "nbconvert_exporter": "python",
   "pygments_lexer": "ipython3",
   "version": "3.4.4"
  }
 },
 "nbformat": 4,
 "nbformat_minor": 0
}
